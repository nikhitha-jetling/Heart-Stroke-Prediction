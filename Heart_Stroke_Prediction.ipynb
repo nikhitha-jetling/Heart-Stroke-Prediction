{
  "nbformat": 4,
  "nbformat_minor": 0,
  "metadata": {
    "colab": {
      "provenance": []
    },
    "kernelspec": {
      "name": "python3",
      "display_name": "Python 3"
    },
    "language_info": {
      "name": "python"
    }
  },
  "cells": [
    {
      "cell_type": "markdown",
      "source": [
        "## Applied Machine Leraning\n",
        "### Name : Nikhitha Jetling\n",
        "### Z Id : Z1924282"
      ],
      "metadata": {
        "id": "q1y5yD_RxHCG"
      }
    },
    {
      "cell_type": "markdown",
      "source": [
        "# 1."
      ],
      "metadata": {
        "id": "CEELSgeCpun1"
      }
    },
    {
      "cell_type": "code",
      "execution_count": null,
      "metadata": {
        "id": "p9MIJSaEQS4X"
      },
      "outputs": [],
      "source": [
        "%matplotlib inline\n",
        "import pandas as pd\n",
        "import sys\n",
        "import matplotlib.pyplot as plt\n",
        "import numpy as np\n",
        "import seaborn as sns\n",
        "import warnings\n",
        "warnings.filterwarnings('ignore')\n"
      ]
    },
    {
      "cell_type": "code",
      "source": [
        "data_set = pd.read_csv(\"healthcare-dataset-stroke-data.csv\")\n",
        "target_data = pd.DataFrame(data_set['stroke']) \n",
        "input_data = data_set.drop(['stroke'], axis = 1)"
      ],
      "metadata": {
        "id": "p3wQEVSLT3sc"
      },
      "execution_count": null,
      "outputs": []
    },
    {
      "cell_type": "code",
      "source": [
        "from sklearn.model_selection import train_test_split\n",
        "#from sklearn.tree import DecisionTreeClassifier, export_graphviz\n",
        "from sklearn import tree\n",
        "from sklearn.tree import DecisionTreeClassifier\n",
        "\n",
        "# Encoding nominal and ordinal features\n",
        "encoded_df = pd.get_dummies(input_data, columns=['gender', 'ever_married', 'work_type', 'Residence_type', 'smoking_status'])\n",
        "bmi_column = encoded_df.bmi\n",
        "# Dealing with missing values\n",
        "bmi_feature = pd.DataFrame(bmi_column.fillna(np.mean(bmi_column)))\n",
        "bmi_feature = bmi_feature['bmi'].round(decimals = 1)\n",
        "encoded_df = encoded_df.drop(['bmi'], axis=1)\n",
        "encoded_df.insert(5,'bmi',bmi_feature)\n",
        "encoded_df.head()\n"
      ],
      "metadata": {
        "id": "BgJe8ZSgUbZC",
        "colab": {
          "base_uri": "https://localhost:8080/",
          "height": 317
        },
        "outputId": "aa78ec30-a8f4-4cca-ca9b-fb71a6a5d18f"
      },
      "execution_count": null,
      "outputs": [
        {
          "output_type": "execute_result",
          "data": {
            "text/plain": [
              "      id   age  hypertension  heart_disease  avg_glucose_level   bmi  \\\n",
              "0   9046  67.0             0              1             228.69  36.6   \n",
              "1  51676  61.0             0              0             202.21  28.9   \n",
              "2  31112  80.0             0              1             105.92  32.5   \n",
              "3  60182  49.0             0              0             171.23  34.4   \n",
              "4   1665  79.0             1              0             174.12  24.0   \n",
              "\n",
              "   gender_Female  gender_Male  gender_Other  ever_married_No  ...  \\\n",
              "0              0            1             0                0  ...   \n",
              "1              1            0             0                0  ...   \n",
              "2              0            1             0                0  ...   \n",
              "3              1            0             0                0  ...   \n",
              "4              1            0             0                0  ...   \n",
              "\n",
              "   work_type_Never_worked  work_type_Private  work_type_Self-employed  \\\n",
              "0                       0                  1                        0   \n",
              "1                       0                  0                        1   \n",
              "2                       0                  1                        0   \n",
              "3                       0                  1                        0   \n",
              "4                       0                  0                        1   \n",
              "\n",
              "   work_type_children  Residence_type_Rural  Residence_type_Urban  \\\n",
              "0                   0                     0                     1   \n",
              "1                   0                     1                     0   \n",
              "2                   0                     1                     0   \n",
              "3                   0                     0                     1   \n",
              "4                   0                     1                     0   \n",
              "\n",
              "   smoking_status_Unknown  smoking_status_formerly smoked  \\\n",
              "0                       0                               1   \n",
              "1                       0                               0   \n",
              "2                       0                               0   \n",
              "3                       0                               0   \n",
              "4                       0                               0   \n",
              "\n",
              "   smoking_status_never smoked  smoking_status_smokes  \n",
              "0                            0                      0  \n",
              "1                            1                      0  \n",
              "2                            1                      0  \n",
              "3                            0                      1  \n",
              "4                            1                      0  \n",
              "\n",
              "[5 rows x 22 columns]"
            ],
            "text/html": [
              "\n",
              "  <div id=\"df-b86c8fd5-b341-4973-aa31-e9d5bcdd1293\">\n",
              "    <div class=\"colab-df-container\">\n",
              "      <div>\n",
              "<style scoped>\n",
              "    .dataframe tbody tr th:only-of-type {\n",
              "        vertical-align: middle;\n",
              "    }\n",
              "\n",
              "    .dataframe tbody tr th {\n",
              "        vertical-align: top;\n",
              "    }\n",
              "\n",
              "    .dataframe thead th {\n",
              "        text-align: right;\n",
              "    }\n",
              "</style>\n",
              "<table border=\"1\" class=\"dataframe\">\n",
              "  <thead>\n",
              "    <tr style=\"text-align: right;\">\n",
              "      <th></th>\n",
              "      <th>id</th>\n",
              "      <th>age</th>\n",
              "      <th>hypertension</th>\n",
              "      <th>heart_disease</th>\n",
              "      <th>avg_glucose_level</th>\n",
              "      <th>bmi</th>\n",
              "      <th>gender_Female</th>\n",
              "      <th>gender_Male</th>\n",
              "      <th>gender_Other</th>\n",
              "      <th>ever_married_No</th>\n",
              "      <th>...</th>\n",
              "      <th>work_type_Never_worked</th>\n",
              "      <th>work_type_Private</th>\n",
              "      <th>work_type_Self-employed</th>\n",
              "      <th>work_type_children</th>\n",
              "      <th>Residence_type_Rural</th>\n",
              "      <th>Residence_type_Urban</th>\n",
              "      <th>smoking_status_Unknown</th>\n",
              "      <th>smoking_status_formerly smoked</th>\n",
              "      <th>smoking_status_never smoked</th>\n",
              "      <th>smoking_status_smokes</th>\n",
              "    </tr>\n",
              "  </thead>\n",
              "  <tbody>\n",
              "    <tr>\n",
              "      <th>0</th>\n",
              "      <td>9046</td>\n",
              "      <td>67.0</td>\n",
              "      <td>0</td>\n",
              "      <td>1</td>\n",
              "      <td>228.69</td>\n",
              "      <td>36.6</td>\n",
              "      <td>0</td>\n",
              "      <td>1</td>\n",
              "      <td>0</td>\n",
              "      <td>0</td>\n",
              "      <td>...</td>\n",
              "      <td>0</td>\n",
              "      <td>1</td>\n",
              "      <td>0</td>\n",
              "      <td>0</td>\n",
              "      <td>0</td>\n",
              "      <td>1</td>\n",
              "      <td>0</td>\n",
              "      <td>1</td>\n",
              "      <td>0</td>\n",
              "      <td>0</td>\n",
              "    </tr>\n",
              "    <tr>\n",
              "      <th>1</th>\n",
              "      <td>51676</td>\n",
              "      <td>61.0</td>\n",
              "      <td>0</td>\n",
              "      <td>0</td>\n",
              "      <td>202.21</td>\n",
              "      <td>28.9</td>\n",
              "      <td>1</td>\n",
              "      <td>0</td>\n",
              "      <td>0</td>\n",
              "      <td>0</td>\n",
              "      <td>...</td>\n",
              "      <td>0</td>\n",
              "      <td>0</td>\n",
              "      <td>1</td>\n",
              "      <td>0</td>\n",
              "      <td>1</td>\n",
              "      <td>0</td>\n",
              "      <td>0</td>\n",
              "      <td>0</td>\n",
              "      <td>1</td>\n",
              "      <td>0</td>\n",
              "    </tr>\n",
              "    <tr>\n",
              "      <th>2</th>\n",
              "      <td>31112</td>\n",
              "      <td>80.0</td>\n",
              "      <td>0</td>\n",
              "      <td>1</td>\n",
              "      <td>105.92</td>\n",
              "      <td>32.5</td>\n",
              "      <td>0</td>\n",
              "      <td>1</td>\n",
              "      <td>0</td>\n",
              "      <td>0</td>\n",
              "      <td>...</td>\n",
              "      <td>0</td>\n",
              "      <td>1</td>\n",
              "      <td>0</td>\n",
              "      <td>0</td>\n",
              "      <td>1</td>\n",
              "      <td>0</td>\n",
              "      <td>0</td>\n",
              "      <td>0</td>\n",
              "      <td>1</td>\n",
              "      <td>0</td>\n",
              "    </tr>\n",
              "    <tr>\n",
              "      <th>3</th>\n",
              "      <td>60182</td>\n",
              "      <td>49.0</td>\n",
              "      <td>0</td>\n",
              "      <td>0</td>\n",
              "      <td>171.23</td>\n",
              "      <td>34.4</td>\n",
              "      <td>1</td>\n",
              "      <td>0</td>\n",
              "      <td>0</td>\n",
              "      <td>0</td>\n",
              "      <td>...</td>\n",
              "      <td>0</td>\n",
              "      <td>1</td>\n",
              "      <td>0</td>\n",
              "      <td>0</td>\n",
              "      <td>0</td>\n",
              "      <td>1</td>\n",
              "      <td>0</td>\n",
              "      <td>0</td>\n",
              "      <td>0</td>\n",
              "      <td>1</td>\n",
              "    </tr>\n",
              "    <tr>\n",
              "      <th>4</th>\n",
              "      <td>1665</td>\n",
              "      <td>79.0</td>\n",
              "      <td>1</td>\n",
              "      <td>0</td>\n",
              "      <td>174.12</td>\n",
              "      <td>24.0</td>\n",
              "      <td>1</td>\n",
              "      <td>0</td>\n",
              "      <td>0</td>\n",
              "      <td>0</td>\n",
              "      <td>...</td>\n",
              "      <td>0</td>\n",
              "      <td>0</td>\n",
              "      <td>1</td>\n",
              "      <td>0</td>\n",
              "      <td>1</td>\n",
              "      <td>0</td>\n",
              "      <td>0</td>\n",
              "      <td>0</td>\n",
              "      <td>1</td>\n",
              "      <td>0</td>\n",
              "    </tr>\n",
              "  </tbody>\n",
              "</table>\n",
              "<p>5 rows × 22 columns</p>\n",
              "</div>\n",
              "      <button class=\"colab-df-convert\" onclick=\"convertToInteractive('df-b86c8fd5-b341-4973-aa31-e9d5bcdd1293')\"\n",
              "              title=\"Convert this dataframe to an interactive table.\"\n",
              "              style=\"display:none;\">\n",
              "        \n",
              "  <svg xmlns=\"http://www.w3.org/2000/svg\" height=\"24px\"viewBox=\"0 0 24 24\"\n",
              "       width=\"24px\">\n",
              "    <path d=\"M0 0h24v24H0V0z\" fill=\"none\"/>\n",
              "    <path d=\"M18.56 5.44l.94 2.06.94-2.06 2.06-.94-2.06-.94-.94-2.06-.94 2.06-2.06.94zm-11 1L8.5 8.5l.94-2.06 2.06-.94-2.06-.94L8.5 2.5l-.94 2.06-2.06.94zm10 10l.94 2.06.94-2.06 2.06-.94-2.06-.94-.94-2.06-.94 2.06-2.06.94z\"/><path d=\"M17.41 7.96l-1.37-1.37c-.4-.4-.92-.59-1.43-.59-.52 0-1.04.2-1.43.59L10.3 9.45l-7.72 7.72c-.78.78-.78 2.05 0 2.83L4 21.41c.39.39.9.59 1.41.59.51 0 1.02-.2 1.41-.59l7.78-7.78 2.81-2.81c.8-.78.8-2.07 0-2.86zM5.41 20L4 18.59l7.72-7.72 1.47 1.35L5.41 20z\"/>\n",
              "  </svg>\n",
              "      </button>\n",
              "      \n",
              "  <style>\n",
              "    .colab-df-container {\n",
              "      display:flex;\n",
              "      flex-wrap:wrap;\n",
              "      gap: 12px;\n",
              "    }\n",
              "\n",
              "    .colab-df-convert {\n",
              "      background-color: #E8F0FE;\n",
              "      border: none;\n",
              "      border-radius: 50%;\n",
              "      cursor: pointer;\n",
              "      display: none;\n",
              "      fill: #1967D2;\n",
              "      height: 32px;\n",
              "      padding: 0 0 0 0;\n",
              "      width: 32px;\n",
              "    }\n",
              "\n",
              "    .colab-df-convert:hover {\n",
              "      background-color: #E2EBFA;\n",
              "      box-shadow: 0px 1px 2px rgba(60, 64, 67, 0.3), 0px 1px 3px 1px rgba(60, 64, 67, 0.15);\n",
              "      fill: #174EA6;\n",
              "    }\n",
              "\n",
              "    [theme=dark] .colab-df-convert {\n",
              "      background-color: #3B4455;\n",
              "      fill: #D2E3FC;\n",
              "    }\n",
              "\n",
              "    [theme=dark] .colab-df-convert:hover {\n",
              "      background-color: #434B5C;\n",
              "      box-shadow: 0px 1px 3px 1px rgba(0, 0, 0, 0.15);\n",
              "      filter: drop-shadow(0px 1px 2px rgba(0, 0, 0, 0.3));\n",
              "      fill: #FFFFFF;\n",
              "    }\n",
              "  </style>\n",
              "\n",
              "      <script>\n",
              "        const buttonEl =\n",
              "          document.querySelector('#df-b86c8fd5-b341-4973-aa31-e9d5bcdd1293 button.colab-df-convert');\n",
              "        buttonEl.style.display =\n",
              "          google.colab.kernel.accessAllowed ? 'block' : 'none';\n",
              "\n",
              "        async function convertToInteractive(key) {\n",
              "          const element = document.querySelector('#df-b86c8fd5-b341-4973-aa31-e9d5bcdd1293');\n",
              "          const dataTable =\n",
              "            await google.colab.kernel.invokeFunction('convertToInteractive',\n",
              "                                                     [key], {});\n",
              "          if (!dataTable) return;\n",
              "\n",
              "          const docLinkHtml = 'Like what you see? Visit the ' +\n",
              "            '<a target=\"_blank\" href=https://colab.research.google.com/notebooks/data_table.ipynb>data table notebook</a>'\n",
              "            + ' to learn more about interactive tables.';\n",
              "          element.innerHTML = '';\n",
              "          dataTable['output_type'] = 'display_data';\n",
              "          await google.colab.output.renderOutput(dataTable, element);\n",
              "          const docLink = document.createElement('div');\n",
              "          docLink.innerHTML = docLinkHtml;\n",
              "          element.appendChild(docLink);\n",
              "        }\n",
              "      </script>\n",
              "    </div>\n",
              "  </div>\n",
              "  "
            ]
          },
          "metadata": {},
          "execution_count": 172
        }
      ]
    },
    {
      "cell_type": "code",
      "source": [
        "# Training a decision tree\n",
        "\n",
        "from sklearn.tree import plot_tree\n",
        "from sklearn.metrics import confusion_matrix\n",
        "from sklearn.metrics import accuracy_score\n",
        "from sklearn.metrics import classification_report\n",
        "from sklearn.metrics import average_precision_score\n",
        "from sklearn.metrics import roc_auc_score\n",
        "from sklearn.metrics import precision_recall_curve\n",
        "\n",
        "X = encoded_df\n",
        "\n",
        "X_train, X_test, y_train, y_test = train_test_split(X,target_data,\n",
        "                                                    stratify=target_data,\n",
        "                                                    random_state=0)\n",
        "dt = DecisionTreeClassifier(max_depth=2)\n",
        "dt = dt.fit(X_train, y_train)\n",
        "y_pred = dt.predict(X_test)\n",
        "\n",
        "ap_dt = average_precision_score(y_test, dt.predict_proba(X_test)[:, 1])\n",
        "print(\"Average precision of Decision Tree: {:.3f}\".format(ap_dt))\n",
        "print(\"\\n\")\n",
        "\n",
        "auc = np.round(roc_auc_score(y_test, y_pred), 3)\n",
        " \n",
        "print(\"roc-auc score is {}\". format(auc))\n",
        "print(\"\\n\")\n",
        "# print(\"Confusion Matrix: \")\n",
        "# print(confusion_matrix(y_test, y_pred))\n",
        "# print(\"\\n\")\n",
        "      \n",
        "# print (\"Accuracy : \",\n",
        "# accuracy_score(y_test,y_pred)*100)\n",
        "\n",
        "      \n",
        "print(\"Report : \")\n",
        "print(classification_report(y_test, y_pred))\n",
        "print(\"The precision for class 0 is '0.95' and for class 1 is '0'\\n\")\n",
        "print(\"The recall for class 0 is '1.00' and for class 1 is '0'\")"
      ],
      "metadata": {
        "id": "FTZqSkPzUiyv",
        "colab": {
          "base_uri": "https://localhost:8080/"
        },
        "outputId": "1bd8ef29-d150-436b-bde3-9c10541fcf00"
      },
      "execution_count": null,
      "outputs": [
        {
          "output_type": "stream",
          "name": "stdout",
          "text": [
            "Average precision of Decision Tree: 0.127\n",
            "\n",
            "\n",
            "roc-auc score is 0.5\n",
            "\n",
            "\n",
            "Report : \n",
            "              precision    recall  f1-score   support\n",
            "\n",
            "           0       0.95      1.00      0.98      1216\n",
            "           1       0.00      0.00      0.00        62\n",
            "\n",
            "    accuracy                           0.95      1278\n",
            "   macro avg       0.48      0.50      0.49      1278\n",
            "weighted avg       0.91      0.95      0.93      1278\n",
            "\n",
            "The precision for class 0 is '0.95' and for class 1 is '0'\n",
            "\n",
            "The recall for class 0 is '1.00' and for class 1 is '0'\n"
          ]
        }
      ]
    },
    {
      "cell_type": "code",
      "source": [
        "# Training a random forest\n",
        "from sklearn.ensemble import RandomForestClassifier\n",
        "\n",
        "rf=RandomForestClassifier(n_estimators=100)\n",
        "\n",
        "\n",
        "rf.fit(X_train,y_train)\n",
        "\n",
        "y_pred=rf.predict(X_test)\n",
        "\n",
        "ap_rf = average_precision_score(y_test, rf.predict_proba(X_test)[:, 1])\n",
        "print(\"Average precision of random forest: {:.3f}\".format(ap_rf))\n",
        "print(\"\\n\")\n",
        "\n",
        "auc = np.round(roc_auc_score(y_test, y_pred), 3)\n",
        " \n",
        "print(\"roc-auc score is {}\". format(auc))\n",
        "print(\"\\n\")\n",
        "      \n",
        "print(\"Report : \")\n",
        "print(classification_report(y_test, y_pred))\n",
        "\n",
        "print(\"\\nThe precision for class 0 is '0.95' and for class 1 is '0'\")\n",
        "print(\"\\nThe recall for class 0 is '1.00' and for class 1 is '0'\")"
      ],
      "metadata": {
        "colab": {
          "base_uri": "https://localhost:8080/"
        },
        "id": "5vyIn_2cgAju",
        "outputId": "3005681c-daae-4e22-c3cf-3ae3205c5f35"
      },
      "execution_count": null,
      "outputs": [
        {
          "output_type": "stream",
          "name": "stdout",
          "text": [
            "Average precision of random forest: 0.125\n",
            "\n",
            "\n",
            "roc-auc score is 0.499\n",
            "\n",
            "\n",
            "Report : \n",
            "              precision    recall  f1-score   support\n",
            "\n",
            "           0       0.95      1.00      0.97      1216\n",
            "           1       0.00      0.00      0.00        62\n",
            "\n",
            "    accuracy                           0.95      1278\n",
            "   macro avg       0.48      0.50      0.49      1278\n",
            "weighted avg       0.91      0.95      0.93      1278\n",
            "\n",
            "\n",
            "The precision for class 0 is '0.95' and for class 1 is '0'\n",
            "\n",
            "The recall for class 0 is '1.00' and for class 1 is '0'\n"
          ]
        }
      ]
    },
    {
      "cell_type": "code",
      "source": [
        "# Training a Gradient Boosting\n",
        "from sklearn.ensemble import GradientBoostingClassifier\n",
        "from sklearn.metrics import roc_auc_score\n",
        "\n",
        "gbc=GradientBoostingClassifier(n_estimators=500,learning_rate=0.05,random_state=100,max_features=5 )\n",
        "\n",
        "gbc.fit(X_train,y_train)\n",
        "\n",
        "y_pred=gbc.predict(X_test)\n",
        "ap_gb = average_precision_score(y_test, gbc.predict_proba(X_test)[:, 1])\n",
        "print(\"Average precision of Gradient Boosting: {:.3f}\".format(ap_gb))\n",
        "print(\"\\n\")\n",
        "\n",
        "auc = np.round(roc_auc_score(y_test, y_pred), 3)\n",
        " \n",
        "print(\"roc-auc score is {}\". format(auc))\n",
        "print(\"\\n\")\n",
        "      \n",
        "print(\"Report : \")\n",
        "print(classification_report(y_test, y_pred))\n",
        "print(\"\\nThe precision for class 0 is '0.95' and for class 1 is '0.33'\")\n",
        "print(\"\\nThe recall for class 0 is '1.00' and for class 1 is '0.05'\")\n"
      ],
      "metadata": {
        "colab": {
          "base_uri": "https://localhost:8080/"
        },
        "id": "GiFiFtlPwDQK",
        "outputId": "52e53c79-258a-4b8a-c29f-863a071b184c"
      },
      "execution_count": null,
      "outputs": [
        {
          "output_type": "stream",
          "name": "stdout",
          "text": [
            "Average precision of Gradient Boosting: 0.169\n",
            "\n",
            "\n",
            "roc-auc score is 0.522\n",
            "\n",
            "\n",
            "Report : \n",
            "              precision    recall  f1-score   support\n",
            "\n",
            "           0       0.95      1.00      0.97      1216\n",
            "           1       0.33      0.05      0.08        62\n",
            "\n",
            "    accuracy                           0.95      1278\n",
            "   macro avg       0.64      0.52      0.53      1278\n",
            "weighted avg       0.92      0.95      0.93      1278\n",
            "\n",
            "\n",
            "The precision for class 0 is '0.95' and for class 1 is '0.33'\n",
            "\n",
            "The recall for class 0 is '1.00' and for class 1 is '0.05'\n"
          ]
        }
      ]
    },
    {
      "cell_type": "markdown",
      "source": [
        "# 2."
      ],
      "metadata": {
        "id": "VaoAXZ9fxCdV"
      }
    },
    {
      "cell_type": "code",
      "source": [
        "from collections import Counter\n",
        "\n",
        "print(sorted(Counter(target_data['stroke']).items()))\n",
        "\n",
        "print(\"\\n4861 records belong to class 0 and only 249 records belong to  class 1\\n\\n So this is a imbalanced dataset, we need to balance it\")"
      ],
      "metadata": {
        "colab": {
          "base_uri": "https://localhost:8080/"
        },
        "id": "GvCw7K2MDxWJ",
        "outputId": "02e48ebd-f85e-486d-829e-42e538bdbbf9"
      },
      "execution_count": null,
      "outputs": [
        {
          "output_type": "stream",
          "name": "stdout",
          "text": [
            "[(0, 4861), (1, 249)]\n",
            "\n",
            "4861 records belong to class 0 and only 249 records belong to  class 1\n",
            "\n",
            " So this is a imbalanced dataset, we need to balance it\n"
          ]
        }
      ]
    },
    {
      "cell_type": "code",
      "source": [
        "pip install imblearn"
      ],
      "metadata": {
        "colab": {
          "base_uri": "https://localhost:8080/"
        },
        "id": "dByL8n3IQl82",
        "outputId": "0f51a98e-f124-4110-db05-95ae62648889"
      },
      "execution_count": null,
      "outputs": [
        {
          "output_type": "stream",
          "name": "stdout",
          "text": [
            "Requirement already satisfied: imblearn in /usr/local/lib/python3.7/dist-packages (0.0)\n",
            "Requirement already satisfied: imbalanced-learn in /usr/local/lib/python3.7/dist-packages (from imblearn) (0.8.1)\n",
            "Requirement already satisfied: scipy>=0.19.1 in /usr/local/lib/python3.7/dist-packages (from imbalanced-learn->imblearn) (1.4.1)\n",
            "Requirement already satisfied: scikit-learn>=0.24 in /usr/local/lib/python3.7/dist-packages (from imbalanced-learn->imblearn) (1.0.2)\n",
            "Requirement already satisfied: joblib>=0.11 in /usr/local/lib/python3.7/dist-packages (from imbalanced-learn->imblearn) (1.1.0)\n",
            "Requirement already satisfied: numpy>=1.13.3 in /usr/local/lib/python3.7/dist-packages (from imbalanced-learn->imblearn) (1.21.5)\n",
            "Requirement already satisfied: threadpoolctl>=2.0.0 in /usr/local/lib/python3.7/dist-packages (from scikit-learn>=0.24->imbalanced-learn->imblearn) (3.1.0)\n"
          ]
        }
      ]
    },
    {
      "cell_type": "markdown",
      "source": [
        "## Random OverSampler"
      ],
      "metadata": {
        "id": "IpdU_bjTfUJ1"
      }
    },
    {
      "cell_type": "code",
      "source": [
        "# Using the OverSampling method to Balance the data set\n",
        "from imblearn.over_sampling import RandomOverSampler\n",
        "ros = RandomOverSampler()\n",
        "\n",
        "X_train_oversample, y_train_oversample = ros.fit_resample(\n",
        "    X_train, y_train)\n",
        "print(\"Original X_train shape:\", X_train.shape)\n",
        "print(\"X_train shape after Over Sampling\", X_train_oversample.shape)\n",
        "print(\"Total records in class 0 and class 1 after OverSampling:\", np.bincount(y_train_oversample['stroke']))\n"
      ],
      "metadata": {
        "colab": {
          "base_uri": "https://localhost:8080/"
        },
        "id": "_7mgwA2wHMe5",
        "outputId": "afd4770a-465b-46fe-ccf5-beffc53915e2"
      },
      "execution_count": null,
      "outputs": [
        {
          "output_type": "stream",
          "name": "stdout",
          "text": [
            "Original X_train shape: (3832, 22)\n",
            "X_train shape after Over Sampling (7290, 22)\n",
            "Total records in class 0 and class 1 after OverSampling: [3645 3645]\n"
          ]
        }
      ]
    },
    {
      "cell_type": "code",
      "source": [
        "from imblearn.pipeline import make_pipeline as make_imb_pipeline\n",
        "from sklearn.linear_model import LogisticRegression\n",
        "from sklearn.model_selection import cross_validate\n",
        "\n",
        "oversample_pipe = make_imb_pipeline(RandomOverSampler(), DecisionTreeClassifier())\n",
        "scores = cross_validate(oversample_pipe,\n",
        "                        X_train, y_train, cv=10,\n",
        "                        scoring=('roc_auc', 'average_precision'))\n",
        "print(\"roc_auc score and average precision of DecisionTreeClassifier: \")\n",
        "scores['test_roc_auc'].mean(), scores['test_average_precision'].mean()"
      ],
      "metadata": {
        "colab": {
          "base_uri": "https://localhost:8080/"
        },
        "id": "Dk3CurTgP3tr",
        "outputId": "4549c97b-550a-48fa-e3e1-e55affd02dd3"
      },
      "execution_count": null,
      "outputs": [
        {
          "output_type": "stream",
          "name": "stdout",
          "text": [
            "roc_auc score and average precision of DecisionTreeClassifier: \n"
          ]
        },
        {
          "output_type": "execute_result",
          "data": {
            "text/plain": [
              "(0.5291974249814912, 0.05818364574192388)"
            ]
          },
          "metadata": {},
          "execution_count": 178
        }
      ]
    },
    {
      "cell_type": "code",
      "source": [
        "\n",
        "oversample_pipe = make_imb_pipeline(RandomOverSampler(), RandomForestClassifier())\n",
        "scores = cross_validate(oversample_pipe,\n",
        "                        X_train, y_train, cv=10,\n",
        "                        scoring=('roc_auc', 'average_precision'))\n",
        "print(\"roc_auc score and average precision of RandomTreeClassifier: \")\n",
        "scores['test_roc_auc'].mean(), scores['test_average_precision'].mean()"
      ],
      "metadata": {
        "colab": {
          "base_uri": "https://localhost:8080/"
        },
        "id": "t2iW79mERsb0",
        "outputId": "be53c28d-515a-4c6e-8710-46c04615a38c"
      },
      "execution_count": null,
      "outputs": [
        {
          "output_type": "stream",
          "name": "stdout",
          "text": [
            "roc_auc score and average precision of RandomTreeClassifier: \n"
          ]
        },
        {
          "output_type": "execute_result",
          "data": {
            "text/plain": [
              "(0.8017446760561396, 0.1882514424198345)"
            ]
          },
          "metadata": {},
          "execution_count": 179
        }
      ]
    },
    {
      "cell_type": "code",
      "source": [
        "\n",
        "oversample_pipe = make_imb_pipeline(RandomOverSampler(), GradientBoostingClassifier())\n",
        "scores = cross_validate(oversample_pipe,\n",
        "                        X_train, y_train, cv=10,\n",
        "                        scoring=('roc_auc', 'average_precision'))\n",
        "print(\"roc_auc score and average precision of GradientBoostingClassifier: \")\n",
        "scores['test_roc_auc'].mean(), scores['test_average_precision'].mean()"
      ],
      "metadata": {
        "colab": {
          "base_uri": "https://localhost:8080/"
        },
        "id": "O5xUYTKRR2Lo",
        "outputId": "9d883b67-69c4-4fad-b5e5-87b460447117"
      },
      "execution_count": null,
      "outputs": [
        {
          "output_type": "stream",
          "name": "stdout",
          "text": [
            "roc_auc score and average precision of GradientBoostingClassifier: \n"
          ]
        },
        {
          "output_type": "execute_result",
          "data": {
            "text/plain": [
              "(0.8129546160800667, 0.20790839043162718)"
            ]
          },
          "metadata": {},
          "execution_count": 180
        }
      ]
    },
    {
      "cell_type": "markdown",
      "source": [
        "## Random UnderSampler"
      ],
      "metadata": {
        "id": "AD9N13_DfY-e"
      }
    },
    {
      "cell_type": "code",
      "source": [
        "# Using the UnderSampling method to Balance the data set\n",
        "from imblearn.under_sampling import RandomUnderSampler\n",
        "rus = RandomUnderSampler()\n",
        "\n",
        "X_train_undersample, y_train_undersample = rus.fit_resample(\n",
        "    X_train, y_train)\n",
        "print(\"Original X_train shape:\", X_train.shape)\n",
        "print(\"X_train shape after Under Sampling\", X_train_undersample.shape)\n",
        "print(\"Total records in class 0 and class 1 after UnderSampling:\", np.bincount(y_train_undersample['stroke']))"
      ],
      "metadata": {
        "id": "fxy2AEJhS3N9",
        "colab": {
          "base_uri": "https://localhost:8080/"
        },
        "outputId": "4f13a1f4-7748-4894-fc0b-d40f21b6fec3"
      },
      "execution_count": null,
      "outputs": [
        {
          "output_type": "stream",
          "name": "stdout",
          "text": [
            "Original X_train shape: (3832, 22)\n",
            "X_train shape after Under Sampling (374, 22)\n",
            "Total records in class 0 and class 1 after UnderSampling: [187 187]\n"
          ]
        }
      ]
    },
    {
      "cell_type": "code",
      "source": [
        "\n",
        "undersample_pipe = make_imb_pipeline(RandomUnderSampler(), DecisionTreeClassifier())\n",
        "scores = cross_validate(undersample_pipe,\n",
        "                        X_train, y_train, cv=10,\n",
        "                        scoring=('roc_auc', 'average_precision'))\n",
        "print(\"roc_auc score and average precision of DecisionTreeClassifier: \")\n",
        "scores['test_roc_auc'].mean(), scores['test_average_precision'].mean()"
      ],
      "metadata": {
        "colab": {
          "base_uri": "https://localhost:8080/"
        },
        "id": "FlZF6ypUgEUc",
        "outputId": "258821ac-4694-4eb2-fbb9-bfdc21ba727b"
      },
      "execution_count": null,
      "outputs": [
        {
          "output_type": "stream",
          "name": "stdout",
          "text": [
            "roc_auc score and average precision of DecisionTreeClassifier: \n"
          ]
        },
        {
          "output_type": "execute_result",
          "data": {
            "text/plain": [
              "(0.6694053979345975, 0.08403798758913476)"
            ]
          },
          "metadata": {},
          "execution_count": 182
        }
      ]
    },
    {
      "cell_type": "code",
      "source": [
        "undersample_pipe = make_imb_pipeline(RandomUnderSampler(), RandomForestClassifier())\n",
        "scores = cross_validate(undersample_pipe,\n",
        "                        X_train, y_train, cv=10,\n",
        "                        scoring=('roc_auc', 'average_precision'))\n",
        "print(\"roc_auc score and average precision of RandomForestClassifier: \")\n",
        "scores['test_roc_auc'].mean(), scores['test_average_precision'].mean()"
      ],
      "metadata": {
        "colab": {
          "base_uri": "https://localhost:8080/"
        },
        "id": "ywqJAOmqghM8",
        "outputId": "4e649bd6-7807-430c-b86d-b75426657165"
      },
      "execution_count": null,
      "outputs": [
        {
          "output_type": "stream",
          "name": "stdout",
          "text": [
            "roc_auc score and average precision of RandomForestClassifier: \n"
          ]
        },
        {
          "output_type": "execute_result",
          "data": {
            "text/plain": [
              "(0.8153176825977836, 0.16407954372705788)"
            ]
          },
          "metadata": {},
          "execution_count": 183
        }
      ]
    },
    {
      "cell_type": "code",
      "source": [
        "undersample_pipe = make_imb_pipeline(RandomUnderSampler(), GradientBoostingClassifier())\n",
        "scores = cross_validate(undersample_pipe,\n",
        "                        X_train, y_train, cv=10,\n",
        "                        scoring=('roc_auc', 'average_precision'))\n",
        "print(\"roc_auc score and average precision of GradientBoostingClassifier: \")\n",
        "scores['test_roc_auc'].mean(), scores['test_average_precision'].mean()"
      ],
      "metadata": {
        "colab": {
          "base_uri": "https://localhost:8080/"
        },
        "id": "pW4MdWDlgspg",
        "outputId": "6a9ad23b-2aa8-476a-f515-d705c4ac3c60"
      },
      "execution_count": null,
      "outputs": [
        {
          "output_type": "stream",
          "name": "stdout",
          "text": [
            "roc_auc score and average precision of GradientBoostingClassifier: \n"
          ]
        },
        {
          "output_type": "execute_result",
          "data": {
            "text/plain": [
              "(0.7981188878413102, 0.17766726751098558)"
            ]
          },
          "metadata": {},
          "execution_count": 184
        }
      ]
    },
    {
      "cell_type": "markdown",
      "source": [
        "## Smote (Synthetic Minority Oversampling Technique)"
      ],
      "metadata": {
        "id": "10Gn2OK6g8E5"
      }
    },
    {
      "cell_type": "code",
      "source": [
        "from imblearn.over_sampling import SMOTE \n",
        "smote_pipe_dt = make_imb_pipeline(SMOTE(),\n",
        "                                  DecisionTreeClassifier())\n",
        "scores = cross_validate(smote_pipe_dt, X_train, y_train, cv=10,\n",
        "                        scoring=('roc_auc', 'average_precision'))\n",
        "\n",
        "pd.DataFrame(scores)[['test_roc_auc', 'test_average_precision']].mean()\n"
      ],
      "metadata": {
        "colab": {
          "base_uri": "https://localhost:8080/"
        },
        "id": "sjW0oToJkEpC",
        "outputId": "7e8dd32e-77c8-4a21-d664-1ae06fc6c970"
      },
      "execution_count": null,
      "outputs": [
        {
          "output_type": "execute_result",
          "data": {
            "text/plain": [
              "test_roc_auc              0.548981\n",
              "test_average_precision    0.066709\n",
              "dtype: float64"
            ]
          },
          "metadata": {},
          "execution_count": 185
        }
      ]
    },
    {
      "cell_type": "code",
      "source": [
        "\n",
        "smote_pipe_rf = make_imb_pipeline(SMOTE(),\n",
        "                                  RandomForestClassifier(n_estimators=100))\n",
        "scores = cross_validate(smote_pipe_rf, X_train, y_train, cv=10,\n",
        "                        scoring=('roc_auc', 'average_precision'))\n",
        "pd.DataFrame(scores)[['test_roc_auc', 'test_average_precision']].mean()\n"
      ],
      "metadata": {
        "colab": {
          "base_uri": "https://localhost:8080/"
        },
        "id": "s2t85_rghsIT",
        "outputId": "46531e4a-ce29-4faf-a7e2-71c797e34b31"
      },
      "execution_count": null,
      "outputs": [
        {
          "output_type": "execute_result",
          "data": {
            "text/plain": [
              "test_roc_auc              0.795416\n",
              "test_average_precision    0.159016\n",
              "dtype: float64"
            ]
          },
          "metadata": {},
          "execution_count": 186
        }
      ]
    },
    {
      "cell_type": "code",
      "source": [
        "smote_pipe_gb = make_imb_pipeline(SMOTE(),\n",
        "                                  GradientBoostingClassifier(n_estimators=100))\n",
        "scores = cross_validate(smote_pipe_gb, X_train, y_train, cv=10,\n",
        "                        scoring=('roc_auc', 'average_precision'))\n",
        "pd.DataFrame(scores)[['test_roc_auc', 'test_average_precision']].mean()"
      ],
      "metadata": {
        "colab": {
          "base_uri": "https://localhost:8080/"
        },
        "id": "6tmSasP8kZqP",
        "outputId": "6e0c168e-8315-4ba5-a646-24e6ef112aa6"
      },
      "execution_count": null,
      "outputs": [
        {
          "output_type": "execute_result",
          "data": {
            "text/plain": [
              "test_roc_auc              0.807145\n",
              "test_average_precision    0.166040\n",
              "dtype: float64"
            ]
          },
          "metadata": {},
          "execution_count": 187
        }
      ]
    },
    {
      "cell_type": "markdown",
      "source": [
        "## Edited Nearest Neighbours"
      ],
      "metadata": {
        "id": "H-Y8UvGnmSk2"
      }
    },
    {
      "cell_type": "code",
      "source": [
        "from imblearn.under_sampling import EditedNearestNeighbours\n",
        "\n",
        "enn_pipe_rf = make_imb_pipeline(EditedNearestNeighbours(n_neighbors= 5),\n",
        "                                DecisionTreeClassifier())\n",
        "scores = cross_validate(enn_pipe_rf, X_train, y_train, cv=10,\n",
        "                        scoring=('roc_auc', 'average_precision'))\n",
        "print(\"roc_auc score and average precision of DecisionTreeClassifier: \")\n",
        "scores['test_roc_auc'].mean(), scores['test_average_precision'].mean()\n",
        "\n"
      ],
      "metadata": {
        "colab": {
          "base_uri": "https://localhost:8080/"
        },
        "id": "Vt2G2AtDorhp",
        "outputId": "270091c2-99db-412c-a326-e05cdb32a082"
      },
      "execution_count": null,
      "outputs": [
        {
          "output_type": "stream",
          "name": "stdout",
          "text": [
            "roc_auc score and average precision of DecisionTreeClassifier: \n"
          ]
        },
        {
          "output_type": "execute_result",
          "data": {
            "text/plain": [
              "(0.5606551635499004, 0.06616476992196056)"
            ]
          },
          "metadata": {},
          "execution_count": 188
        }
      ]
    },
    {
      "cell_type": "code",
      "source": [
        "\n",
        "enn_pipe_rf = make_imb_pipeline(EditedNearestNeighbours(n_neighbors= 5),\n",
        "                                RandomForestClassifier(n_estimators=100))\n",
        "scores = cross_validate(enn_pipe_rf, X_train, y_train, cv=10,\n",
        "                        scoring=('roc_auc', 'average_precision'))\n",
        "print(\"roc_auc score and average precision of RandomForestClassifier: \")\n",
        "scores['test_roc_auc'].mean(), scores['test_average_precision'].mean()\n",
        "\n"
      ],
      "metadata": {
        "colab": {
          "base_uri": "https://localhost:8080/"
        },
        "id": "bWDJPqmWmkAZ",
        "outputId": "2c386f4f-9c56-42f3-cbfe-0274aabdcc4b"
      },
      "execution_count": null,
      "outputs": [
        {
          "output_type": "stream",
          "name": "stdout",
          "text": [
            "roc_auc score and average precision of RandomForestClassifier: \n"
          ]
        },
        {
          "output_type": "execute_result",
          "data": {
            "text/plain": [
              "(0.7905856338246389, 0.16631987687556177)"
            ]
          },
          "metadata": {},
          "execution_count": 189
        }
      ]
    },
    {
      "cell_type": "code",
      "source": [
        "enn_pipe_rf = make_imb_pipeline(EditedNearestNeighbours(n_neighbors= 5),\n",
        "                                GradientBoostingClassifier())\n",
        "scores = cross_validate(enn_pipe_rf, X_train, y_train, cv=10,\n",
        "                        scoring=('roc_auc', 'average_precision'))\n",
        "print(\"roc_auc score and average precision of GradientBoostingClassifier: \")\n",
        "scores['test_roc_auc'].mean(), scores['test_average_precision'].mean()\n",
        "\n"
      ],
      "metadata": {
        "colab": {
          "base_uri": "https://localhost:8080/"
        },
        "id": "1Mut81yQnFP0",
        "outputId": "f5ff73bd-7fae-4e26-d508-55bcb17c7525"
      },
      "execution_count": null,
      "outputs": [
        {
          "output_type": "stream",
          "name": "stdout",
          "text": [
            "roc_auc score and average precision of GradientBoostingClassifier: \n"
          ]
        },
        {
          "output_type": "execute_result",
          "data": {
            "text/plain": [
              "(0.8292261651670447, 0.1926033596412853)"
            ]
          },
          "metadata": {},
          "execution_count": 190
        }
      ]
    },
    {
      "cell_type": "markdown",
      "source": [
        "#3."
      ],
      "metadata": {
        "id": "X9ZRLw-QD0iW"
      }
    },
    {
      "cell_type": "code",
      "source": [
        "#Feature Importance using Gradient Boosting algorithm\n",
        "from numpy import loadtxt\n",
        "from xgboost import XGBClassifier\n",
        "from xgboost import plot_importance\n",
        "\n",
        "model = XGBClassifier()\n",
        "model.fit(X_train, y_train)\n",
        "# plot feature importance\n",
        "plot_importance(model)\n",
        "plt.show()"
      ],
      "metadata": {
        "colab": {
          "base_uri": "https://localhost:8080/",
          "height": 295
        },
        "id": "BBNRzLuzD1g3",
        "outputId": "ac6b75b5-2f5a-4378-fee8-0a605eade0aa"
      },
      "execution_count": null,
      "outputs": [
        {
          "output_type": "display_data",
          "data": {
            "text/plain": [
              "<Figure size 432x288 with 1 Axes>"
            ],
            "image/png": "[encoded data removed]"
          },
          "metadata": {
            "needs_background": "light"
          }
        }
      ]
    },
    {
      "cell_type": "code",
      "source": [
        "#Feature Importance using Random Forest algorithm\n",
        "\n",
        "from sklearn.feature_selection import SelectFromModel\n",
        "sel = SelectFromModel(RandomForestClassifier(n_estimators = 100))\n",
        "sel.fit(X_train, y_train)\n",
        "sel.get_support()\n",
        "selected_feat= X_train.columns[(sel.get_support())]\n",
        "print(selected_feat)"
      ],
      "metadata": {
        "colab": {
          "base_uri": "https://localhost:8080/"
        },
        "id": "_MunVYClGpXw",
        "outputId": "dab4da87-d13c-418f-9330-fd3642cc0a63"
      },
      "execution_count": null,
      "outputs": [
        {
          "output_type": "stream",
          "name": "stdout",
          "text": [
            "Index(['id', 'age', 'avg_glucose_level', 'bmi'], dtype='object')\n"
          ]
        }
      ]
    },
    {
      "cell_type": "markdown",
      "source": [
        "#### Acoording to Gradient Boosting algorithm and Random Forest, the important featutes are : age, avg_glucose_level, id, bmi etc."
      ],
      "metadata": {
        "id": "ghAGuha1t3wJ"
      }
    },
    {
      "cell_type": "markdown",
      "source": [
        "# 4."
      ],
      "metadata": {
        "id": "mGeEvW4t5-Ic"
      }
    },
    {
      "cell_type": "code",
      "source": [
        "print(\"The roc-auc score before balancing in DecisionTree, RandomForest and GradientBoosting are\\n0.5,  0.5,  0.522 respectively\")\n",
        "print(\"The roc-auc score after balancing(OverSampling) in DecisionTree, RandomForest and GradientBoosting are\\n0.52, 0.79, 0.805 respectively\")\n",
        "print(\"The roc-auc score after balancing(UnderSampling) in DecisionTree, RandomForest and GradientBoosting are\\n0.65, 0.82, 0.81 respectively\")\n",
        "print(\"The roc-auc score after balancing(SMOTE) in DecisionTree, RandomForest and GradientBoosting are\\n0.54, 0.78, 0.80 respectively\")\n",
        "print(\"The roc-auc score after balancing(Edited Nearest Neighbours) in DecisionTree, RandomForest and GradientBoosting are\\n0.56, 0.80, 0.82 respectively\")\n"
      ],
      "metadata": {
        "colab": {
          "base_uri": "https://localhost:8080/"
        },
        "id": "SIDp9SYvM7ux",
        "outputId": "21c1585d-0a72-435d-b51b-d52922e450f6"
      },
      "execution_count": null,
      "outputs": [
        {
          "output_type": "stream",
          "name": "stdout",
          "text": [
            "The roc-auc score before balancing in DecisionTree, RandomForest and GradientBoosting are\n",
            "0.5,  0.5,  0.522 respectively\n",
            "The roc-auc score after balancing(OverSampling) in DecisionTree, RandomForest and GradientBoosting are\n",
            "0.52, 0.79, 0.805 respectively\n",
            "The roc-auc score after balancing(UnderSampling) in DecisionTree, RandomForest and GradientBoosting are\n",
            "0.65, 0.82, 0.81 respectively\n",
            "The roc-auc score after balancing(SMOTE) in DecisionTree, RandomForest and GradientBoosting are\n",
            "0.54, 0.78, 0.80 respectively\n",
            "The roc-auc score after balancing(Edited Nearest Neighbours) in DecisionTree, RandomForest and GradientBoosting are\n",
            "0.56, 0.80, 0.82 respectively\n"
          ]
        }
      ]
    },
    {
      "cell_type": "markdown",
      "source": [
        "##### Data balancing techniques have significantly improved the performance of the model. \n",
        "##### If we look at the roc-auc scores before balancong the data set, it is around 0.5 which not a good score. If we look at the roc-auc scores after balancing the dataset with techniques like OverSampling, UnderSampling, SMOTE, Edited Nearest Neighbours, the scores are pretty high.\n",
        "##### Coming to the Average Precision scores, some of the scores have slightly increased, and the other have slightly decreased after balancing the dataset."
      ],
      "metadata": {
        "id": "40dJU4HSd3iV"
      }
    },
    {
      "cell_type": "code",
      "source": [],
      "metadata": {
        "id": "GzURgPVBS9K_"
      },
      "execution_count": null,
      "outputs": []
    }
  ]
}
